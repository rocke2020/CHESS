{
 "cells": [
  {
   "cell_type": "code",
   "execution_count": null,
   "metadata": {},
   "outputs": [],
   "source": [
    "import argparse\n",
    "import json\n",
    "import logging\n",
    "import math\n",
    "import os\n",
    "import pickle\n",
    "import random\n",
    "import re\n",
    "import shutil\n",
    "import sys\n",
    "from collections import defaultdict\n",
    "from datetime import datetime\n",
    "from pathlib import Path\n",
    "\n",
    "import numpy as np\n",
    "import pandas as pd\n",
    "import torch\n",
    "from datasketch import MinHash, MinHashLSH\n",
    "from icecream import ic\n",
    "from loguru import logger\n",
    "from pandas import DataFrame\n",
    "from tqdm import tqdm\n",
    "\n",
    "sys.path.append(os.path.abspath('.'))\n",
    "from src.database_utils.execution import execute_sql\n",
    "\n",
    "ic.configureOutput(includeContext=True, argToStringFunction=str)\n",
    "ic.lineWrapWidth = 120\n",
    "SEED = 42\n",
    "random.seed(SEED)\n",
    "\n",
    "db_root = '/data/t2s-data/dataset/spider/spider-fixed/spider/database'\n",
    "unique_values_in_db = {\n",
    "    \"table1\": {\n",
    "        \"column1\": [\"value1\", \"value2\", \"value3\"],\n",
    "        \"column2\": [\"value1\", \"value2\", \"value4\"],\n",
    "    }\n",
    "}\n"
   ]
  }
 ],
 "metadata": {
  "language_info": {
   "name": "python"
  }
 },
 "nbformat": 4,
 "nbformat_minor": 2
}
